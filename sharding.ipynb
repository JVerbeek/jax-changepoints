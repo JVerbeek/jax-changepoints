{
 "cells": [
  {
   "cell_type": "code",
   "execution_count": 2,
   "metadata": {},
   "outputs": [
    {
     "name": "stderr",
     "output_type": "stream",
     "text": [
      "/home/janneke/miniforge3/envs/jax/lib/python3.11/site-packages/tqdm/auto.py:21: TqdmWarning: IProgress not found. Please update jupyter and ipywidgets. See https://ipywidgets.readthedocs.io/en/stable/user_install.html\n",
      "  from .autonotebook import tqdm as notebook_tqdm\n"
     ]
    },
    {
     "name": "stdout",
     "output_type": "stream",
     "text": [
      "You have 8 “fake” JAX devices now: [CpuDevice(id=0), CpuDevice(id=1), CpuDevice(id=2), CpuDevice(id=3), CpuDevice(id=4), CpuDevice(id=5), CpuDevice(id=6), CpuDevice(id=7)]\n",
      "Mesh('data': 1, 'model': 8)\n"
     ]
    }
   ],
   "source": [
    "import os\n",
    "os.environ[\"XLA_FLAGS\"] = '--xla_force_host_platform_device_count=8'\n",
    "\n",
    "import jax\n",
    "from jax import config\n",
    "#config.update(\"jax_enable_x64\", True)\n",
    "import jax.tree_util as jtu\n",
    "from abc import ABC\n",
    "from flax import nnx\n",
    "from flax import linen\n",
    "import jax.random as jr\n",
    "key = jr.key(25)\n",
    "from jaxtyping import install_import_hook\n",
    "with install_import_hook(\"gpjax\", \"beartype.beartype\"):\n",
    "    import gpjax as gpx\n",
    "from jax.sharding import Mesh, PartitionSpec, NamedSharding\n",
    "import jax.numpy as jnp\n",
    "from datetime import datetime\n",
    "import blackjax \n",
    "from blackjax.smc import resampling\n",
    "import tensorflow_probability.substrates.jax.distributions as tfd\n",
    "import numpy as np\n",
    "import seaborn as sns\n",
    "from blackjax.types import Array, ArrayLikeTree, ArrayTree, PRNGKey\n",
    "import matplotlib.pyplot as plt\n",
    "import matplotlib\n",
    "from typing import Callable, NamedTuple, Optional, List\n",
    "from jax_changepoint import ChangePoints\n",
    "\n",
    "from jax_gpr_particles import set_priors, init_particles, create_sharded_model, smc, Particles\n",
    "\n",
    "print(f'You have 8 “fake” JAX devices now: {jax.devices()}')\n",
    "\n",
    "# Create a mesh of two dimensions and annotate each axis with a name.\n",
    "mesh = Mesh(devices=np.array(jax.devices()).reshape(1, 8),\n",
    "            axis_names=('data', 'model'))\n",
    "print(mesh)\n"
   ]
  },
  {
   "cell_type": "code",
   "execution_count": 4,
   "metadata": {},
   "outputs": [
    {
     "name": "stdout",
     "output_type": "stream",
     "text": [
      "<class 'gpjax.gps.NonConjugatePosterior'>\n"
     ]
    }
   ],
   "source": [
    "\n",
    "N_particles = 1000\n",
    "key, subkey = jr.split(key)\n",
    "data = np.load(\"/home/janneke/changepoint-gp/notebooks/multiple-cp/data.npz\")\n",
    "X = data[\"X\"]\n",
    "y = data[\"y\"]\n",
    "# plt.plot(X, y, \"kx\")\n",
    "# plt.show()\n",
    "D = gpx.Dataset(X=X, y=y)\n",
    "\n",
    "#xtest = jnp.linspace(-3.5, 3.5, 500).reshape(-1, 1)\n",
    "\n",
    "#kernel = ChangePoints(kernels=[gpx.kernels.RBF(), gpx.kernels.RBF()], locations=[10], steepness=[1])\n",
    "kernel = gpx.kernels.RBF()\n",
    "meanf = gpx.mean_functions.Zero()\n",
    "prior = gpx.gps.Prior(mean_function=meanf, kernel=kernel)\n",
    "likelihood = gpx.likelihoods.Poisson(num_datapoints=D.n)\n",
    "\n",
    "posterior = prior * likelihood\n",
    "graphdef, params, *static_state = nnx.split(posterior, gpx.parameters.Parameter, ...)\n",
    "\n",
    "prior_dict = {\"prior\": {\"kernel\": {\"variance\": tfd.LogNormal(1, 1), \"lengthscale\": tfd.LogNormal(1, 1)},\n",
    "                        \"mean_function\": {\"constant\": tfd.Normal(0, 1)}},\n",
    "                \"latent\": tfd.Normal(0, 1)}\n",
    "\n",
    "# prior_dict = {\"prior\": {\"kernel\": {\"kernels\": {0: {\"variance\": tfd.LogNormal(0, 1), \"lengthscale\": tfd.LogNormal(1, 1)},\n",
    "#                                                1: {\"variance\": tfd.LogNormal(0, 1), \"lengthscale\": tfd.LogNormal(1, 1)}},\n",
    "#                                     \"locations\": tfd.Uniform(0, len(X)),\n",
    "#                                     \"steepness\": tfd.Uniform(0, 10)},\n",
    "#                         \"mean_function\": {\"constant\": tfd.Normal(0, 1)}},\n",
    "#                         \"likelihood\": {\"obs_stddev\": tfd.LogNormal(1, 1)}}\n",
    "\n",
    "posterior = set_priors(posterior, prior_dict)\n",
    "particle_list = init_particles(posterior, N_particles, key) \n",
    "print(type(particle_list))\n",
    "# gpx.objectives.conjugate_mll(particle_list, D)"
   ]
  },
  {
   "cell_type": "code",
   "execution_count": 5,
   "metadata": {},
   "outputs": [
    {
     "name": "stdout",
     "output_type": "stream",
     "text": [
      "2025-03-25 14:35:28.378769\n",
      "N_PART 1000\n"
     ]
    },
    {
     "ename": "TypeError",
     "evalue": "Incompatible shapes for dot: got (8, 8) and (103,).",
     "output_type": "error",
     "traceback": [
      "\u001b[31m---------------------------------------------------------------------------\u001b[39m",
      "\u001b[31mTypeError\u001b[39m                                 Traceback (most recent call last)",
      "\u001b[36mCell\u001b[39m\u001b[36m \u001b[39m\u001b[32mIn[5]\u001b[39m\u001b[32m, line 11\u001b[39m\n\u001b[32m      9\u001b[39m t = datetime.now()\n\u001b[32m     10\u001b[39m \u001b[38;5;28mprint\u001b[39m(t)\n\u001b[32m---> \u001b[39m\u001b[32m11\u001b[39m final_state = \u001b[43msmc\u001b[49m\u001b[43m(\u001b[49m\u001b[43mparams\u001b[49m\u001b[43m,\u001b[49m\u001b[43m \u001b[49m\u001b[43mD\u001b[49m\u001b[43m,\u001b[49m\u001b[43m \u001b[49m\u001b[43mgraphdef\u001b[49m\u001b[43m,\u001b[49m\u001b[43m \u001b[49m\u001b[43mmesh\u001b[49m\u001b[43m,\u001b[49m\u001b[43m \u001b[49m\u001b[43msmc_key\u001b[49m\u001b[43m)\u001b[49m\n\u001b[32m     12\u001b[39m params = gpx.parameters.transform(final_state.particles, params_bijection)\n\u001b[32m     13\u001b[39m final_particles = nnx.merge(graphdef, final_state.particles)  \n",
      "\u001b[36mFile \u001b[39m\u001b[32m~/jax-smc/jax_gpr_particles.py:137\u001b[39m, in \u001b[36msmc\u001b[39m\u001b[34m(particles, data, graphdef, mesh, key)\u001b[39m\n\u001b[32m    135\u001b[39m initial_smc_state = particles\n\u001b[32m    136\u001b[39m initial_smc_state = tempered.init(initial_smc_state)\n\u001b[32m--> \u001b[39m\u001b[32m137\u001b[39m n_iter, final_state = \u001b[43m_smc_inference_loop\u001b[49m\u001b[43m(\u001b[49m\u001b[43msample_key\u001b[49m\u001b[43m,\u001b[49m\u001b[43m \u001b[49m\u001b[43mtempered\u001b[49m\u001b[43m.\u001b[49m\u001b[43mstep\u001b[49m\u001b[43m,\u001b[49m\u001b[43m \u001b[49m\u001b[43minitial_smc_state\u001b[49m\u001b[43m)\u001b[49m\n\u001b[32m    139\u001b[39m \u001b[38;5;28mprint\u001b[39m(final_state, \u001b[33m\"\u001b[39m\u001b[38;5;130;01m\\n\u001b[39;00m\u001b[33m************************\u001b[39m\u001b[33m\"\u001b[39m)\n\u001b[32m    140\u001b[39m \u001b[38;5;28mprint\u001b[39m(\u001b[33m\"\u001b[39m\u001b[33mNumber of steps in the adaptive algorithm: \u001b[39m\u001b[33m\"\u001b[39m, n_iter.item())\n",
      "\u001b[36mFile \u001b[39m\u001b[32m~/jax-smc/jax_gpr_particles.py:105\u001b[39m, in \u001b[36m_smc_inference_loop\u001b[39m\u001b[34m(rng_key, smc_kernel, initial_state)\u001b[39m\n\u001b[32m    102\u001b[39m     state, _ = smc_kernel(subk, state)\n\u001b[32m    103\u001b[39m     \u001b[38;5;28;01mreturn\u001b[39;00m i + \u001b[32m1\u001b[39m, state, k\n\u001b[32m--> \u001b[39m\u001b[32m105\u001b[39m n_iter, final_state, _ = \u001b[43mjax\u001b[49m\u001b[43m.\u001b[49m\u001b[43mlax\u001b[49m\u001b[43m.\u001b[49m\u001b[43mwhile_loop\u001b[49m\u001b[43m(\u001b[49m\n\u001b[32m    106\u001b[39m \u001b[43m    \u001b[49m\u001b[43mcond\u001b[49m\u001b[43m,\u001b[49m\u001b[43m \u001b[49m\u001b[43mone_step\u001b[49m\u001b[43m,\u001b[49m\u001b[43m \u001b[49m\u001b[43m(\u001b[49m\u001b[32;43m0\u001b[39;49m\u001b[43m,\u001b[49m\u001b[43m \u001b[49m\u001b[43minitial_state\u001b[49m\u001b[43m,\u001b[49m\u001b[43m \u001b[49m\u001b[43mrng_key\u001b[49m\u001b[43m)\u001b[49m\n\u001b[32m    107\u001b[39m \u001b[43m\u001b[49m\u001b[43m)\u001b[49m\n\u001b[32m    109\u001b[39m \u001b[38;5;28;01mreturn\u001b[39;00m n_iter, final_state\n",
      "    \u001b[31m[... skipping hidden 9 frame]\u001b[39m\n",
      "\u001b[36mFile \u001b[39m\u001b[32m~/jax-smc/jax_gpr_particles.py:102\u001b[39m, in \u001b[36m_smc_inference_loop.<locals>.one_step\u001b[39m\u001b[34m(carry)\u001b[39m\n\u001b[32m    100\u001b[39m i, state, k = carry\n\u001b[32m    101\u001b[39m k, subk = jax.random.split(k, \u001b[32m2\u001b[39m)\n\u001b[32m--> \u001b[39m\u001b[32m102\u001b[39m state, _ = \u001b[43msmc_kernel\u001b[49m\u001b[43m(\u001b[49m\u001b[43msubk\u001b[49m\u001b[43m,\u001b[49m\u001b[43m \u001b[49m\u001b[43mstate\u001b[49m\u001b[43m)\u001b[49m\n\u001b[32m    103\u001b[39m \u001b[38;5;28;01mreturn\u001b[39;00m i + \u001b[32m1\u001b[39m, state, k\n",
      "\u001b[36mFile \u001b[39m\u001b[32m~/miniforge3/envs/jax/lib/python3.11/site-packages/blackjax/smc/adaptive_tempered.py:169\u001b[39m, in \u001b[36mas_top_level_api.<locals>.step_fn\u001b[39m\u001b[34m(rng_key, state)\u001b[39m\n\u001b[32m    168\u001b[39m \u001b[38;5;28;01mdef\u001b[39;00m\u001b[38;5;250m \u001b[39m\u001b[34mstep_fn\u001b[39m(rng_key: PRNGKey, state):\n\u001b[32m--> \u001b[39m\u001b[32m169\u001b[39m     \u001b[38;5;28;01mreturn\u001b[39;00m \u001b[43mkernel\u001b[49m\u001b[43m(\u001b[49m\n\u001b[32m    170\u001b[39m \u001b[43m        \u001b[49m\u001b[43mrng_key\u001b[49m\u001b[43m,\u001b[49m\n\u001b[32m    171\u001b[39m \u001b[43m        \u001b[49m\u001b[43mstate\u001b[49m\u001b[43m,\u001b[49m\n\u001b[32m    172\u001b[39m \u001b[43m        \u001b[49m\u001b[43mnum_mcmc_steps\u001b[49m\u001b[43m,\u001b[49m\n\u001b[32m    173\u001b[39m \u001b[43m        \u001b[49m\u001b[43mmcmc_parameters\u001b[49m\u001b[43m,\u001b[49m\n\u001b[32m    174\u001b[39m \u001b[43m    \u001b[49m\u001b[43m)\u001b[49m\n",
      "\u001b[36mFile \u001b[39m\u001b[32m~/miniforge3/envs/jax/lib/python3.11/site-packages/blackjax/smc/adaptive_tempered.py:103\u001b[39m, in \u001b[36mbuild_kernel.<locals>.kernel\u001b[39m\u001b[34m(rng_key, state, num_mcmc_steps, mcmc_parameters)\u001b[39m\n\u001b[32m    101\u001b[39m delta = compute_delta(state)\n\u001b[32m    102\u001b[39m lmbda = delta + state.lmbda\n\u001b[32m--> \u001b[39m\u001b[32m103\u001b[39m \u001b[38;5;28;01mreturn\u001b[39;00m \u001b[43mtempered_kernel\u001b[49m\u001b[43m(\u001b[49m\u001b[43mrng_key\u001b[49m\u001b[43m,\u001b[49m\u001b[43m \u001b[49m\u001b[43mstate\u001b[49m\u001b[43m,\u001b[49m\u001b[43m \u001b[49m\u001b[43mnum_mcmc_steps\u001b[49m\u001b[43m,\u001b[49m\u001b[43m \u001b[49m\u001b[43mlmbda\u001b[49m\u001b[43m,\u001b[49m\u001b[43m \u001b[49m\u001b[43mmcmc_parameters\u001b[49m\u001b[43m)\u001b[49m\n",
      "\u001b[36mFile \u001b[39m\u001b[32m~/miniforge3/envs/jax/lib/python3.11/site-packages/blackjax/smc/tempered.py:183\u001b[39m, in \u001b[36mbuild_kernel.<locals>.kernel\u001b[39m\u001b[34m(rng_key, state, num_mcmc_steps, lmbda, mcmc_parameters)\u001b[39m\n\u001b[32m    173\u001b[39m shared_mcmc_step_fn = partial(mcmc_step_fn, **shared_mcmc_parameters)\n\u001b[32m    175\u001b[39m update_fn, num_resampled = update_strategy(\n\u001b[32m    176\u001b[39m     mcmc_init_fn,\n\u001b[32m    177\u001b[39m     tempered_logposterior_fn,\n\u001b[32m   (...)\u001b[39m\u001b[32m    180\u001b[39m     num_mcmc_steps=num_mcmc_steps,\n\u001b[32m    181\u001b[39m )\n\u001b[32m--> \u001b[39m\u001b[32m183\u001b[39m smc_state, info = \u001b[43msmc\u001b[49m\u001b[43m.\u001b[49m\u001b[43mbase\u001b[49m\u001b[43m.\u001b[49m\u001b[43mstep\u001b[49m\u001b[43m(\u001b[49m\n\u001b[32m    184\u001b[39m \u001b[43m    \u001b[49m\u001b[43mrng_key\u001b[49m\u001b[43m,\u001b[49m\n\u001b[32m    185\u001b[39m \u001b[43m    \u001b[49m\u001b[43mSMCState\u001b[49m\u001b[43m(\u001b[49m\u001b[43mstate\u001b[49m\u001b[43m.\u001b[49m\u001b[43mparticles\u001b[49m\u001b[43m,\u001b[49m\u001b[43m \u001b[49m\u001b[43mstate\u001b[49m\u001b[43m.\u001b[49m\u001b[43mweights\u001b[49m\u001b[43m,\u001b[49m\u001b[43m \u001b[49m\u001b[43munshared_mcmc_parameters\u001b[49m\u001b[43m)\u001b[49m\u001b[43m,\u001b[49m\n\u001b[32m    186\u001b[39m \u001b[43m    \u001b[49m\u001b[43mupdate_fn\u001b[49m\u001b[43m,\u001b[49m\n\u001b[32m    187\u001b[39m \u001b[43m    \u001b[49m\u001b[43mjax\u001b[49m\u001b[43m.\u001b[49m\u001b[43mvmap\u001b[49m\u001b[43m(\u001b[49m\u001b[43mlog_weights_fn\u001b[49m\u001b[43m)\u001b[49m\u001b[43m,\u001b[49m\n\u001b[32m    188\u001b[39m \u001b[43m    \u001b[49m\u001b[43mresampling_fn\u001b[49m\u001b[43m,\u001b[49m\n\u001b[32m    189\u001b[39m \u001b[43m    \u001b[49m\u001b[43mnum_resampled\u001b[49m\u001b[43m,\u001b[49m\n\u001b[32m    190\u001b[39m \u001b[43m\u001b[49m\u001b[43m)\u001b[49m\n\u001b[32m    192\u001b[39m tempered_state = TemperedSMCState(\n\u001b[32m    193\u001b[39m     smc_state.particles, smc_state.weights, state.lmbda + delta\n\u001b[32m    194\u001b[39m )\n\u001b[32m    196\u001b[39m \u001b[38;5;28;01mreturn\u001b[39;00m tempered_state, info\n",
      "\u001b[36mFile \u001b[39m\u001b[32m~/miniforge3/envs/jax/lib/python3.11/site-packages/blackjax/smc/base.py:141\u001b[39m, in \u001b[36mstep\u001b[39m\u001b[34m(rng_key, state, update_fn, weight_fn, resample_fn, num_resampled)\u001b[39m\n\u001b[32m    138\u001b[39m particles = jax.tree.map(\u001b[38;5;28;01mlambda\u001b[39;00m x: x[resampling_idx], state.particles)\n\u001b[32m    140\u001b[39m keys = jax.random.split(updating_key, num_resampled)\n\u001b[32m--> \u001b[39m\u001b[32m141\u001b[39m particles, update_info = \u001b[43mupdate_fn\u001b[49m\u001b[43m(\u001b[49m\u001b[43mkeys\u001b[49m\u001b[43m,\u001b[49m\u001b[43m \u001b[49m\u001b[43mparticles\u001b[49m\u001b[43m,\u001b[49m\u001b[43m \u001b[49m\u001b[43mstate\u001b[49m\u001b[43m.\u001b[49m\u001b[43mupdate_parameters\u001b[49m\u001b[43m)\u001b[49m\n\u001b[32m    143\u001b[39m log_weights = weight_fn(particles)\n\u001b[32m    144\u001b[39m logsum_weights = jax.scipy.special.logsumexp(log_weights)\n",
      "    \u001b[31m[... skipping hidden 3 frame]\u001b[39m\n",
      "\u001b[36mFile \u001b[39m\u001b[32m~/miniforge3/envs/jax/lib/python3.11/site-packages/blackjax/smc/tempered.py:75\u001b[39m, in \u001b[36mupdate_and_take_last.<locals>.mcmc_kernel\u001b[39m\u001b[34m(rng_key, position, step_parameters)\u001b[39m\n\u001b[32m     72\u001b[39m     \u001b[38;5;28;01mreturn\u001b[39;00m new_state, info\n\u001b[32m     74\u001b[39m keys = jax.random.split(rng_key, num_mcmc_steps)\n\u001b[32m---> \u001b[39m\u001b[32m75\u001b[39m last_state, info = \u001b[43mjax\u001b[49m\u001b[43m.\u001b[49m\u001b[43mlax\u001b[49m\u001b[43m.\u001b[49m\u001b[43mscan\u001b[49m\u001b[43m(\u001b[49m\u001b[43mbody_fn\u001b[49m\u001b[43m,\u001b[49m\u001b[43m \u001b[49m\u001b[43mstate\u001b[49m\u001b[43m,\u001b[49m\u001b[43m \u001b[49m\u001b[43mkeys\u001b[49m\u001b[43m)\u001b[49m\n\u001b[32m     76\u001b[39m \u001b[38;5;28;01mreturn\u001b[39;00m last_state.position, info\n",
      "    \u001b[31m[... skipping hidden 9 frame]\u001b[39m\n",
      "\u001b[36mFile \u001b[39m\u001b[32m~/miniforge3/envs/jax/lib/python3.11/site-packages/blackjax/smc/tempered.py:69\u001b[39m, in \u001b[36mupdate_and_take_last.<locals>.mcmc_kernel.<locals>.body_fn\u001b[39m\u001b[34m(state, rng_key)\u001b[39m\n\u001b[32m     68\u001b[39m \u001b[38;5;28;01mdef\u001b[39;00m\u001b[38;5;250m \u001b[39m\u001b[34mbody_fn\u001b[39m(state, rng_key):\n\u001b[32m---> \u001b[39m\u001b[32m69\u001b[39m     new_state, info = \u001b[43mshared_mcmc_step_fn\u001b[49m\u001b[43m(\u001b[49m\n\u001b[32m     70\u001b[39m \u001b[43m        \u001b[49m\u001b[43mrng_key\u001b[49m\u001b[43m,\u001b[49m\u001b[43m \u001b[49m\u001b[43mstate\u001b[49m\u001b[43m,\u001b[49m\u001b[43m \u001b[49m\u001b[43mtempered_logposterior_fn\u001b[49m\u001b[43m,\u001b[49m\u001b[43m \u001b[49m\u001b[43m*\u001b[49m\u001b[43m*\u001b[49m\u001b[43mstep_parameters\u001b[49m\n\u001b[32m     71\u001b[39m \u001b[43m    \u001b[49m\u001b[43m)\u001b[49m\n\u001b[32m     72\u001b[39m     \u001b[38;5;28;01mreturn\u001b[39;00m new_state, info\n",
      "\u001b[36mFile \u001b[39m\u001b[32m~/jax-smc/jax_gpr_particles.py:121\u001b[39m, in \u001b[36msmc.<locals>.hmc_step\u001b[39m\u001b[34m(key, state, logdensity)\u001b[39m\n\u001b[32m    119\u001b[39m hmc = blackjax.hmc(logdensity, **hmc_parameters)\n\u001b[32m    120\u001b[39m step = nnx.jit(hmc.step)\n\u001b[32m--> \u001b[39m\u001b[32m121\u001b[39m \u001b[38;5;28;01mreturn\u001b[39;00m \u001b[43mstep\u001b[49m\u001b[43m(\u001b[49m\u001b[43mkey\u001b[49m\u001b[43m,\u001b[49m\u001b[43m \u001b[49m\u001b[43mstate\u001b[49m\u001b[43m)\u001b[49m\n",
      "\u001b[36mFile \u001b[39m\u001b[32m~/miniforge3/envs/jax/lib/python3.11/site-packages/flax/nnx/nnx/graph.py:1158\u001b[39m, in \u001b[36mUpdateContextManager.__call__.<locals>.update_context_manager_wrapper\u001b[39m\u001b[34m(*args, **kwargs)\u001b[39m\n\u001b[32m   1155\u001b[39m \u001b[38;5;129m@functools\u001b[39m.wraps(f)\n\u001b[32m   1156\u001b[39m \u001b[38;5;28;01mdef\u001b[39;00m\u001b[38;5;250m \u001b[39m\u001b[34mupdate_context_manager_wrapper\u001b[39m(*args, **kwargs):\n\u001b[32m   1157\u001b[39m   \u001b[38;5;28;01mwith\u001b[39;00m \u001b[38;5;28mself\u001b[39m:\n\u001b[32m-> \u001b[39m\u001b[32m1158\u001b[39m     \u001b[38;5;28;01mreturn\u001b[39;00m \u001b[43mf\u001b[49m\u001b[43m(\u001b[49m\u001b[43m*\u001b[49m\u001b[43margs\u001b[49m\u001b[43m,\u001b[49m\u001b[43m \u001b[49m\u001b[43m*\u001b[49m\u001b[43m*\u001b[49m\u001b[43mkwargs\u001b[49m\u001b[43m)\u001b[49m\n",
      "\u001b[36mFile \u001b[39m\u001b[32m~/miniforge3/envs/jax/lib/python3.11/site-packages/flax/nnx/nnx/transforms/compilation.py:343\u001b[39m, in \u001b[36mjit.<locals>.jit_wrapper\u001b[39m\u001b[34m(*args, **kwargs)\u001b[39m\n\u001b[32m    334\u001b[39m \u001b[38;5;129m@functools\u001b[39m.wraps(fun)\n\u001b[32m    335\u001b[39m \u001b[38;5;129m@graph\u001b[39m.update_context(\u001b[33m'\u001b[39m\u001b[33mjit\u001b[39m\u001b[33m'\u001b[39m)\n\u001b[32m    336\u001b[39m \u001b[38;5;28;01mdef\u001b[39;00m\u001b[38;5;250m \u001b[39m\u001b[34mjit_wrapper\u001b[39m(*args, **kwargs):\n\u001b[32m    337\u001b[39m   pure_args, pure_kwargs = extract.to_tree(\n\u001b[32m    338\u001b[39m     (args, kwargs),\n\u001b[32m    339\u001b[39m     prefix=(in_shardings, kwarg_shardings),\n\u001b[32m    340\u001b[39m     split_fn=_jit_split_fn,\n\u001b[32m    341\u001b[39m     ctxtag=\u001b[33m'\u001b[39m\u001b[33mjit\u001b[39m\u001b[33m'\u001b[39m,\n\u001b[32m    342\u001b[39m   )\n\u001b[32m--> \u001b[39m\u001b[32m343\u001b[39m   pure_args_out, pure_kwargs_out, pure_out = \u001b[43mjitted_fn\u001b[49m\u001b[43m(\u001b[49m\n\u001b[32m    344\u001b[39m \u001b[43m    \u001b[49m\u001b[43m*\u001b[49m\u001b[43mpure_args\u001b[49m\u001b[43m,\u001b[49m\u001b[43m \u001b[49m\u001b[43m*\u001b[49m\u001b[43m*\u001b[49m\u001b[43mpure_kwargs\u001b[49m\n\u001b[32m    345\u001b[39m \u001b[43m  \u001b[49m\u001b[43m)\u001b[49m\n\u001b[32m    346\u001b[39m   _args_out, _kwargs_out, out = extract.from_tree(\n\u001b[32m    347\u001b[39m     (pure_args_out, pure_kwargs_out, pure_out), ctxtag=\u001b[33m'\u001b[39m\u001b[33mjit\u001b[39m\u001b[33m'\u001b[39m\n\u001b[32m    348\u001b[39m   )\n\u001b[32m    349\u001b[39m   \u001b[38;5;28;01mreturn\u001b[39;00m out\n",
      "    \u001b[31m[... skipping hidden 11 frame]\u001b[39m\n",
      "\u001b[36mFile \u001b[39m\u001b[32m~/miniforge3/envs/jax/lib/python3.11/site-packages/flax/nnx/nnx/transforms/compilation.py:111\u001b[39m, in \u001b[36mJitFn.__call__\u001b[39m\u001b[34m(self, *pure_args, **pure_kwargs)\u001b[39m\n\u001b[32m    108\u001b[39m \u001b[38;5;28;01mdef\u001b[39;00m\u001b[38;5;250m \u001b[39m\u001b[34m__call__\u001b[39m(\u001b[38;5;28mself\u001b[39m, *pure_args, **pure_kwargs):\n\u001b[32m    109\u001b[39m   args, kwargs = extract.from_tree((pure_args, pure_kwargs), ctxtag=\u001b[33m'\u001b[39m\u001b[33mjit\u001b[39m\u001b[33m'\u001b[39m)\n\u001b[32m--> \u001b[39m\u001b[32m111\u001b[39m   out = \u001b[38;5;28;43mself\u001b[39;49m\u001b[43m.\u001b[49m\u001b[43mf\u001b[49m\u001b[43m(\u001b[49m\u001b[43m*\u001b[49m\u001b[43margs\u001b[49m\u001b[43m,\u001b[49m\u001b[43m \u001b[49m\u001b[43m*\u001b[49m\u001b[43m*\u001b[49m\u001b[43mkwargs\u001b[49m\u001b[43m)\u001b[49m\n\u001b[32m    113\u001b[39m   args_out, kwargs_out = extract.clear_non_graph_nodes((args, kwargs))\n\u001b[32m    114\u001b[39m   pure_args_out, pure_kwargs_out, pure_out = extract.to_tree(\n\u001b[32m    115\u001b[39m     (args_out, kwargs_out, out),\n\u001b[32m    116\u001b[39m     prefix=(\u001b[38;5;28mself\u001b[39m.in_shardings, \u001b[38;5;28mself\u001b[39m.kwarg_shardings, \u001b[38;5;28mself\u001b[39m.out_shardings),\n\u001b[32m    117\u001b[39m     ctxtag=\u001b[33m'\u001b[39m\u001b[33mjit\u001b[39m\u001b[33m'\u001b[39m,\n\u001b[32m    118\u001b[39m     split_fn=_jit_split_fn,\n\u001b[32m    119\u001b[39m   )\n",
      "\u001b[36mFile \u001b[39m\u001b[32m~/miniforge3/envs/jax/lib/python3.11/site-packages/blackjax/mcmc/hmc.py:243\u001b[39m, in \u001b[36mas_top_level_api.<locals>.step_fn\u001b[39m\u001b[34m(rng_key, state)\u001b[39m\n\u001b[32m    242\u001b[39m \u001b[38;5;28;01mdef\u001b[39;00m\u001b[38;5;250m \u001b[39m\u001b[34mstep_fn\u001b[39m(rng_key: PRNGKey, state):\n\u001b[32m--> \u001b[39m\u001b[32m243\u001b[39m     \u001b[38;5;28;01mreturn\u001b[39;00m \u001b[43mkernel\u001b[49m\u001b[43m(\u001b[49m\n\u001b[32m    244\u001b[39m \u001b[43m        \u001b[49m\u001b[43mrng_key\u001b[49m\u001b[43m,\u001b[49m\n\u001b[32m    245\u001b[39m \u001b[43m        \u001b[49m\u001b[43mstate\u001b[49m\u001b[43m,\u001b[49m\n\u001b[32m    246\u001b[39m \u001b[43m        \u001b[49m\u001b[43mlogdensity_fn\u001b[49m\u001b[43m,\u001b[49m\n\u001b[32m    247\u001b[39m \u001b[43m        \u001b[49m\u001b[43mstep_size\u001b[49m\u001b[43m,\u001b[49m\n\u001b[32m    248\u001b[39m \u001b[43m        \u001b[49m\u001b[43minverse_mass_matrix\u001b[49m\u001b[43m,\u001b[49m\n\u001b[32m    249\u001b[39m \u001b[43m        \u001b[49m\u001b[43mnum_integration_steps\u001b[49m\u001b[43m,\u001b[49m\n\u001b[32m    250\u001b[39m \u001b[43m    \u001b[49m\u001b[43m)\u001b[49m\n",
      "\u001b[36mFile \u001b[39m\u001b[32m~/miniforge3/envs/jax/lib/python3.11/site-packages/blackjax/mcmc/hmc.py:138\u001b[39m, in \u001b[36mbuild_kernel.<locals>.kernel\u001b[39m\u001b[34m(rng_key, state, logdensity_fn, step_size, inverse_mass_matrix, num_integration_steps)\u001b[39m\n\u001b[32m    135\u001b[39m key_momentum, key_integrator = jax.random.split(rng_key, \u001b[32m2\u001b[39m)\n\u001b[32m    137\u001b[39m position, logdensity, logdensity_grad = state\n\u001b[32m--> \u001b[39m\u001b[32m138\u001b[39m momentum = \u001b[43mmetric\u001b[49m\u001b[43m.\u001b[49m\u001b[43msample_momentum\u001b[49m\u001b[43m(\u001b[49m\u001b[43mkey_momentum\u001b[49m\u001b[43m,\u001b[49m\u001b[43m \u001b[49m\u001b[43mposition\u001b[49m\u001b[43m)\u001b[49m\n\u001b[32m    140\u001b[39m integrator_state = integrators.IntegratorState(\n\u001b[32m    141\u001b[39m     position, momentum, logdensity, logdensity_grad\n\u001b[32m    142\u001b[39m )\n\u001b[32m    143\u001b[39m proposal, info, _ = proposal_generator(key_integrator, integrator_state)\n",
      "\u001b[36mFile \u001b[39m\u001b[32m~/miniforge3/envs/jax/lib/python3.11/site-packages/blackjax/mcmc/metrics.py:144\u001b[39m, in \u001b[36mgaussian_euclidean.<locals>.momentum_generator\u001b[39m\u001b[34m(rng_key, position)\u001b[39m\n\u001b[32m    143\u001b[39m \u001b[38;5;28;01mdef\u001b[39;00m\u001b[38;5;250m \u001b[39m\u001b[34mmomentum_generator\u001b[39m(rng_key: PRNGKey, position: ArrayLikeTree) -> ArrayTree:\n\u001b[32m--> \u001b[39m\u001b[32m144\u001b[39m     \u001b[38;5;28;01mreturn\u001b[39;00m \u001b[43mgenerate_gaussian_noise\u001b[49m\u001b[43m(\u001b[49m\u001b[43mrng_key\u001b[49m\u001b[43m,\u001b[49m\u001b[43m \u001b[49m\u001b[43mposition\u001b[49m\u001b[43m,\u001b[49m\u001b[43m \u001b[49m\u001b[43msigma\u001b[49m\u001b[43m=\u001b[49m\u001b[43mmass_matrix_sqrt\u001b[49m\u001b[43m)\u001b[49m\n",
      "\u001b[36mFile \u001b[39m\u001b[32m~/miniforge3/envs/jax/lib/python3.11/site-packages/blackjax/util.py:85\u001b[39m, in \u001b[36mgenerate_gaussian_noise\u001b[39m\u001b[34m(rng_key, position, mu, sigma)\u001b[39m\n\u001b[32m     83\u001b[39m p, unravel_fn = ravel_pytree(position)\n\u001b[32m     84\u001b[39m sample = normal(rng_key, shape=p.shape, dtype=p.dtype)\n\u001b[32m---> \u001b[39m\u001b[32m85\u001b[39m \u001b[38;5;28;01mreturn\u001b[39;00m unravel_fn(mu + \u001b[43mlinear_map\u001b[49m\u001b[43m(\u001b[49m\u001b[43msigma\u001b[49m\u001b[43m,\u001b[49m\u001b[43m \u001b[49m\u001b[43msample\u001b[49m\u001b[43m)\u001b[49m)\n",
      "    \u001b[31m[... skipping hidden 11 frame]\u001b[39m\n",
      "\u001b[36mFile \u001b[39m\u001b[32m~/miniforge3/envs/jax/lib/python3.11/site-packages/blackjax/util.py:55\u001b[39m, in \u001b[36mlinear_map\u001b[39m\u001b[34m(diag_or_dense_a, b, precision)\u001b[39m\n\u001b[32m     53\u001b[39m     \u001b[38;5;28;01mreturn\u001b[39;00m lax.mul(diag_or_dense_a, b)\n\u001b[32m     54\u001b[39m \u001b[38;5;28;01melse\u001b[39;00m:\n\u001b[32m---> \u001b[39m\u001b[32m55\u001b[39m     \u001b[38;5;28;01mreturn\u001b[39;00m \u001b[43mlax\u001b[49m\u001b[43m.\u001b[49m\u001b[43mdot\u001b[49m\u001b[43m(\u001b[49m\u001b[43mdiag_or_dense_a\u001b[49m\u001b[43m,\u001b[49m\u001b[43m \u001b[49m\u001b[43mb\u001b[49m\u001b[43m,\u001b[49m\u001b[43m \u001b[49m\u001b[43mprecision\u001b[49m\u001b[43m=\u001b[49m\u001b[43mprecision\u001b[49m\u001b[43m)\u001b[49m\n",
      "\u001b[36mFile \u001b[39m\u001b[32m~/miniforge3/envs/jax/lib/python3.11/site-packages/jax/_src/lax/lax.py:732\u001b[39m, in \u001b[36mdot\u001b[39m\u001b[34m(lhs, rhs, precision, preferred_element_type)\u001b[39m\n\u001b[32m    728\u001b[39m   \u001b[38;5;28;01mreturn\u001b[39;00m dot_general(lhs, rhs, (((lhs.ndim - \u001b[32m1\u001b[39m,), (\u001b[32m0\u001b[39m,)), ((), ())),\n\u001b[32m    729\u001b[39m                      precision=precision,\n\u001b[32m    730\u001b[39m                      preferred_element_type=preferred_element_type)\n\u001b[32m    731\u001b[39m \u001b[38;5;28;01melse\u001b[39;00m:\n\u001b[32m--> \u001b[39m\u001b[32m732\u001b[39m   \u001b[38;5;28;01mraise\u001b[39;00m \u001b[38;5;167;01mTypeError\u001b[39;00m(\u001b[33m\"\u001b[39m\u001b[33mIncompatible shapes for dot: got \u001b[39m\u001b[38;5;132;01m{}\u001b[39;00m\u001b[33m and \u001b[39m\u001b[38;5;132;01m{}\u001b[39;00m\u001b[33m.\u001b[39m\u001b[33m\"\u001b[39m.format(\n\u001b[32m    733\u001b[39m       lhs.shape, rhs.shape))\n",
      "\u001b[31mTypeError\u001b[39m: Incompatible shapes for dot: got (8, 8) and (103,)."
     ]
    }
   ],
   "source": [
    "# with mesh:\n",
    "#     state_sharded = create_sharded_model(particle_list)\n",
    "    \n",
    "params_bijection = gpx.parameters.DEFAULT_BIJECTION\n",
    "graphdef, params, *static_state = nnx.split(particle_list, nnx.VariableState, ...)\n",
    "params = gpx.parameters.transform(params, params_bijection, inverse=True)\n",
    "key, smc_key = jr.split(key)\n",
    "\n",
    "t = datetime.now()\n",
    "print(t)\n",
    "final_state = smc(params, D, graphdef, mesh, smc_key)\n",
    "params = gpx.parameters.transform(final_state.particles, params_bijection)\n",
    "final_particles = nnx.merge(graphdef, final_state.particles)  \n",
    "dt = datetime.now() - t\n",
    "print(\"Sampling took\", dt.total_seconds())"
   ]
  },
  {
   "cell_type": "code",
   "execution_count": null,
   "metadata": {},
   "outputs": [
    {
     "data": {
      "image/png": "[encoded data removed]",
      "text/plain": [
       "<Figure size 640x480 with 1 Axes>"
      ]
     },
     "metadata": {},
     "output_type": "display_data"
    },
    {
     "name": "stdout",
     "output_type": "stream",
     "text": [
      "[[  0.        ]\n",
      " [  1.01010101]\n",
      " [  2.02020202]\n",
      " [  3.03030303]\n",
      " [  4.04040404]\n",
      " [  5.05050505]\n",
      " [  6.06060606]\n",
      " [  7.07070707]\n",
      " [  8.08080808]\n",
      " [  9.09090909]\n",
      " [ 10.1010101 ]\n",
      " [ 11.11111111]\n",
      " [ 12.12121212]\n",
      " [ 13.13131313]\n",
      " [ 14.14141414]\n",
      " [ 15.15151515]\n",
      " [ 16.16161616]\n",
      " [ 17.17171717]\n",
      " [ 18.18181818]\n",
      " [ 19.19191919]\n",
      " [ 20.2020202 ]\n",
      " [ 21.21212121]\n",
      " [ 22.22222222]\n",
      " [ 23.23232323]\n",
      " [ 24.24242424]\n",
      " [ 25.25252525]\n",
      " [ 26.26262626]\n",
      " [ 27.27272727]\n",
      " [ 28.28282828]\n",
      " [ 29.29292929]\n",
      " [ 30.3030303 ]\n",
      " [ 31.31313131]\n",
      " [ 32.32323232]\n",
      " [ 33.33333333]\n",
      " [ 34.34343434]\n",
      " [ 35.35353535]\n",
      " [ 36.36363636]\n",
      " [ 37.37373737]\n",
      " [ 38.38383838]\n",
      " [ 39.39393939]\n",
      " [ 40.4040404 ]\n",
      " [ 41.41414141]\n",
      " [ 42.42424242]\n",
      " [ 43.43434343]\n",
      " [ 44.44444444]\n",
      " [ 45.45454545]\n",
      " [ 46.46464646]\n",
      " [ 47.47474747]\n",
      " [ 48.48484848]\n",
      " [ 49.49494949]\n",
      " [ 50.50505051]\n",
      " [ 51.51515152]\n",
      " [ 52.52525253]\n",
      " [ 53.53535354]\n",
      " [ 54.54545455]\n",
      " [ 55.55555556]\n",
      " [ 56.56565657]\n",
      " [ 57.57575758]\n",
      " [ 58.58585859]\n",
      " [ 59.5959596 ]\n",
      " [ 60.60606061]\n",
      " [ 61.61616162]\n",
      " [ 62.62626263]\n",
      " [ 63.63636364]\n",
      " [ 64.64646465]\n",
      " [ 65.65656566]\n",
      " [ 66.66666667]\n",
      " [ 67.67676768]\n",
      " [ 68.68686869]\n",
      " [ 69.6969697 ]\n",
      " [ 70.70707071]\n",
      " [ 71.71717172]\n",
      " [ 72.72727273]\n",
      " [ 73.73737374]\n",
      " [ 74.74747475]\n",
      " [ 75.75757576]\n",
      " [ 76.76767677]\n",
      " [ 77.77777778]\n",
      " [ 78.78787879]\n",
      " [ 79.7979798 ]\n",
      " [ 80.80808081]\n",
      " [ 81.81818182]\n",
      " [ 82.82828283]\n",
      " [ 83.83838384]\n",
      " [ 84.84848485]\n",
      " [ 85.85858586]\n",
      " [ 86.86868687]\n",
      " [ 87.87878788]\n",
      " [ 88.88888889]\n",
      " [ 89.8989899 ]\n",
      " [ 90.90909091]\n",
      " [ 91.91919192]\n",
      " [ 92.92929293]\n",
      " [ 93.93939394]\n",
      " [ 94.94949495]\n",
      " [ 95.95959596]\n",
      " [ 96.96969697]\n",
      " [ 97.97979798]\n",
      " [ 98.98989899]\n",
      " [100.        ]]\n"
     ]
    },
    {
     "data": {
      "image/png": "[encoded data removed]",
      "text/plain": [
       "<Figure size 640x480 with 1 Axes>"
      ]
     },
     "metadata": {},
     "output_type": "display_data"
    }
   ],
   "source": [
    "plt.hist(final_particles.prior.kernel.locations.value, bins=100, density=True)\n",
    "plt.show()\n",
    "plt.hist(final_particles.prior.kernel.steepness.value, bins=100, density=True)\n",
    "print(X)"
   ]
  },
  {
   "cell_type": "code",
   "execution_count": null,
   "metadata": {},
   "outputs": [
    {
     "data": {
      "text/plain": [
       "Text(0, 0.5, 'y')"
      ]
     },
     "execution_count": 7,
     "metadata": {},
     "output_type": "execute_result"
    },
    {
     "data": {
      "image/png": "[encoded data removed]",
      "text/plain": [
       "<Figure size 640x480 with 1 Axes>"
      ]
     },
     "metadata": {},
     "output_type": "display_data"
    }
   ],
   "source": [
    "plt.plot(D.X, D.y, \"kx\")\n",
    "plt.xlabel(\"t\")\n",
    "plt.ylabel(\"y\")"
   ]
  },
  {
   "cell_type": "code",
   "execution_count": null,
   "metadata": {},
   "outputs": [],
   "source": []
  }
 ],
 "metadata": {
  "kernelspec": {
   "display_name": "jax",
   "language": "python",
   "name": "python3"
  },
  "language_info": {
   "codemirror_mode": {
    "name": "ipython",
    "version": 3
   },
   "file_extension": ".py",
   "mimetype": "text/x-python",
   "name": "python",
   "nbconvert_exporter": "python",
   "pygments_lexer": "ipython3",
   "version": "3.11.11"
  }
 },
 "nbformat": 4,
 "nbformat_minor": 2
}
